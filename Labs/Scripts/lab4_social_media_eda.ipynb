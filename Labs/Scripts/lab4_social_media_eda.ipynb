{
  "cells": [
    {
      "cell_type": "markdown",
      "metadata": {
        "id": "KvPaCv9DQl0s"
      },
      "source": [
        "# IS 4487 Lab 4\n",
        "\n",
        "## Outline\n",
        "\n",
        "Repeat exercises from Lab 2, but with the *X SuperBowl* social media dataset\n",
        "- Loading installed packages\n",
        "- Inspect data\n",
        "- Explore plot types\n",
        "\n",
        "<a href=\"https://colab.research.google.com/github/Stan-Pugsley/is_4487_base/blob/main/Labs/Scripts/lab4_social_media_eda.ipynb\" target=\"_parent\"><img src=\"https://colab.research.google.com/assets/colab-badge.svg\" alt=\"Open In Colab\"/></a>"
      ]
    },
    {
      "cell_type": "markdown",
      "metadata": {
        "id": "OQU6GtkCQl0t"
      },
      "source": [
        "# X API Data Dictionary\n",
        "See https://developer.x.com/en/docs/x-api/data-dictionary/introduction"
      ]
    },
    {
      "cell_type": "markdown",
      "metadata": {
        "id": "cvNo9v13Ql0u"
      },
      "source": [
        "## Load Libraries\n",
        "\n",
        "➡️ Assignment Tasks\n",
        "- Load any necessary libraries"
      ]
    },
    {
      "cell_type": "code",
      "execution_count": 20,
      "metadata": {
        "vscode": {
          "languageId": "plaintext"
        },
        "id": "6O3C_FrPQl0u"
      },
      "outputs": [],
      "source": [
        "import pandas as pd\n",
        "import matplotlib.pyplot as mpl\n",
        "import sklearn as sl"
      ]
    },
    {
      "cell_type": "markdown",
      "metadata": {
        "id": "IcGO6lNEQl0v"
      },
      "source": [
        "## Import Data into Dataframe\n",
        "\n",
        "➡️ Assignment Tasks\n",
        "- Import data from the X SuperBowl dataset into a dataframe (in GitHub go to Labs > DataSets)\n",
        "- Describe or profile the dataframe\n",
        "- Make sure you watch for line breaks and emojis that might cause problems with the data import"
      ]
    },
    {
      "cell_type": "code",
      "execution_count": 3,
      "metadata": {
        "vscode": {
          "languageId": "plaintext"
        },
        "id": "G6UbHYxpQl0v",
        "outputId": "bf204883-f61f-4c00-90da-3cecc2cf6bce",
        "colab": {
          "base_uri": "https://localhost:8080/",
          "height": 320
        }
      },
      "outputs": [
        {
          "output_type": "execute_result",
          "data": {
            "text/plain": [
              "       conversation_id     author_id            id  \\\n",
              "count     9.377000e+03  9.377000e+03  9.377000e+03   \n",
              "mean      1.756688e+18  6.452886e+17  1.756863e+18   \n",
              "std       7.212529e+15  7.084168e+17  1.869442e+13   \n",
              "min       1.378505e+18  1.299700e+04  1.756825e+18   \n",
              "25%       1.756844e+18  2.176677e+08  1.756846e+18   \n",
              "50%       1.756864e+18  3.230979e+09  1.756866e+18   \n",
              "75%       1.756879e+18  1.380642e+18  1.756880e+18   \n",
              "max       1.756887e+18  1.756883e+18  1.756887e+18   \n",
              "\n",
              "       edit_controls.edits_remaining  public_metrics.retweet_count  \\\n",
              "count                    9377.000000                   9377.000000   \n",
              "mean                        4.995734                    160.414632   \n",
              "std                         0.068371                    617.853377   \n",
              "min                         3.000000                      0.000000   \n",
              "25%                         5.000000                      0.000000   \n",
              "50%                         5.000000                      1.000000   \n",
              "75%                         5.000000                     42.000000   \n",
              "max                         5.000000                   4760.000000   \n",
              "\n",
              "       public_metrics.reply_count  public_metrics.like_count  \\\n",
              "count                 9377.000000                9377.000000   \n",
              "mean                     0.265970                   3.108883   \n",
              "std                      1.720208                  35.093719   \n",
              "min                      0.000000                   0.000000   \n",
              "25%                      0.000000                   0.000000   \n",
              "50%                      0.000000                   0.000000   \n",
              "75%                      0.000000                   0.000000   \n",
              "max                     78.000000                2043.000000   \n",
              "\n",
              "       public_metrics.quote_count  public_metrics.bookmark_count  \\\n",
              "count                 9377.000000                    9377.000000   \n",
              "mean                     0.057374                       0.142903   \n",
              "std                      0.651784                       2.273449   \n",
              "min                      0.000000                       0.000000   \n",
              "25%                      0.000000                       0.000000   \n",
              "50%                      0.000000                       0.000000   \n",
              "75%                      0.000000                       0.000000   \n",
              "max                     27.000000                     127.000000   \n",
              "\n",
              "       public_metrics.impression_count  in_reply_to_user_id  \n",
              "count                      9377.000000         1.180000e+03  \n",
              "mean                        493.430308         3.334129e+17  \n",
              "std                        4247.759998         5.880940e+17  \n",
              "min                           0.000000         7.846000e+03  \n",
              "25%                           0.000000         3.692197e+07  \n",
              "50%                           2.000000         2.949206e+08  \n",
              "75%                         252.000000         7.313111e+17  \n",
              "max                      246031.000000         1.756813e+18  "
            ],
            "text/html": [
              "\n",
              "  <div id=\"df-6ccb15ba-6089-4db8-ac8c-0662dd42a995\" class=\"colab-df-container\">\n",
              "    <div>\n",
              "<style scoped>\n",
              "    .dataframe tbody tr th:only-of-type {\n",
              "        vertical-align: middle;\n",
              "    }\n",
              "\n",
              "    .dataframe tbody tr th {\n",
              "        vertical-align: top;\n",
              "    }\n",
              "\n",
              "    .dataframe thead th {\n",
              "        text-align: right;\n",
              "    }\n",
              "</style>\n",
              "<table border=\"1\" class=\"dataframe\">\n",
              "  <thead>\n",
              "    <tr style=\"text-align: right;\">\n",
              "      <th></th>\n",
              "      <th>conversation_id</th>\n",
              "      <th>author_id</th>\n",
              "      <th>id</th>\n",
              "      <th>edit_controls.edits_remaining</th>\n",
              "      <th>public_metrics.retweet_count</th>\n",
              "      <th>public_metrics.reply_count</th>\n",
              "      <th>public_metrics.like_count</th>\n",
              "      <th>public_metrics.quote_count</th>\n",
              "      <th>public_metrics.bookmark_count</th>\n",
              "      <th>public_metrics.impression_count</th>\n",
              "      <th>in_reply_to_user_id</th>\n",
              "    </tr>\n",
              "  </thead>\n",
              "  <tbody>\n",
              "    <tr>\n",
              "      <th>count</th>\n",
              "      <td>9.377000e+03</td>\n",
              "      <td>9.377000e+03</td>\n",
              "      <td>9.377000e+03</td>\n",
              "      <td>9377.000000</td>\n",
              "      <td>9377.000000</td>\n",
              "      <td>9377.000000</td>\n",
              "      <td>9377.000000</td>\n",
              "      <td>9377.000000</td>\n",
              "      <td>9377.000000</td>\n",
              "      <td>9377.000000</td>\n",
              "      <td>1.180000e+03</td>\n",
              "    </tr>\n",
              "    <tr>\n",
              "      <th>mean</th>\n",
              "      <td>1.756688e+18</td>\n",
              "      <td>6.452886e+17</td>\n",
              "      <td>1.756863e+18</td>\n",
              "      <td>4.995734</td>\n",
              "      <td>160.414632</td>\n",
              "      <td>0.265970</td>\n",
              "      <td>3.108883</td>\n",
              "      <td>0.057374</td>\n",
              "      <td>0.142903</td>\n",
              "      <td>493.430308</td>\n",
              "      <td>3.334129e+17</td>\n",
              "    </tr>\n",
              "    <tr>\n",
              "      <th>std</th>\n",
              "      <td>7.212529e+15</td>\n",
              "      <td>7.084168e+17</td>\n",
              "      <td>1.869442e+13</td>\n",
              "      <td>0.068371</td>\n",
              "      <td>617.853377</td>\n",
              "      <td>1.720208</td>\n",
              "      <td>35.093719</td>\n",
              "      <td>0.651784</td>\n",
              "      <td>2.273449</td>\n",
              "      <td>4247.759998</td>\n",
              "      <td>5.880940e+17</td>\n",
              "    </tr>\n",
              "    <tr>\n",
              "      <th>min</th>\n",
              "      <td>1.378505e+18</td>\n",
              "      <td>1.299700e+04</td>\n",
              "      <td>1.756825e+18</td>\n",
              "      <td>3.000000</td>\n",
              "      <td>0.000000</td>\n",
              "      <td>0.000000</td>\n",
              "      <td>0.000000</td>\n",
              "      <td>0.000000</td>\n",
              "      <td>0.000000</td>\n",
              "      <td>0.000000</td>\n",
              "      <td>7.846000e+03</td>\n",
              "    </tr>\n",
              "    <tr>\n",
              "      <th>25%</th>\n",
              "      <td>1.756844e+18</td>\n",
              "      <td>2.176677e+08</td>\n",
              "      <td>1.756846e+18</td>\n",
              "      <td>5.000000</td>\n",
              "      <td>0.000000</td>\n",
              "      <td>0.000000</td>\n",
              "      <td>0.000000</td>\n",
              "      <td>0.000000</td>\n",
              "      <td>0.000000</td>\n",
              "      <td>0.000000</td>\n",
              "      <td>3.692197e+07</td>\n",
              "    </tr>\n",
              "    <tr>\n",
              "      <th>50%</th>\n",
              "      <td>1.756864e+18</td>\n",
              "      <td>3.230979e+09</td>\n",
              "      <td>1.756866e+18</td>\n",
              "      <td>5.000000</td>\n",
              "      <td>1.000000</td>\n",
              "      <td>0.000000</td>\n",
              "      <td>0.000000</td>\n",
              "      <td>0.000000</td>\n",
              "      <td>0.000000</td>\n",
              "      <td>2.000000</td>\n",
              "      <td>2.949206e+08</td>\n",
              "    </tr>\n",
              "    <tr>\n",
              "      <th>75%</th>\n",
              "      <td>1.756879e+18</td>\n",
              "      <td>1.380642e+18</td>\n",
              "      <td>1.756880e+18</td>\n",
              "      <td>5.000000</td>\n",
              "      <td>42.000000</td>\n",
              "      <td>0.000000</td>\n",
              "      <td>0.000000</td>\n",
              "      <td>0.000000</td>\n",
              "      <td>0.000000</td>\n",
              "      <td>252.000000</td>\n",
              "      <td>7.313111e+17</td>\n",
              "    </tr>\n",
              "    <tr>\n",
              "      <th>max</th>\n",
              "      <td>1.756887e+18</td>\n",
              "      <td>1.756883e+18</td>\n",
              "      <td>1.756887e+18</td>\n",
              "      <td>5.000000</td>\n",
              "      <td>4760.000000</td>\n",
              "      <td>78.000000</td>\n",
              "      <td>2043.000000</td>\n",
              "      <td>27.000000</td>\n",
              "      <td>127.000000</td>\n",
              "      <td>246031.000000</td>\n",
              "      <td>1.756813e+18</td>\n",
              "    </tr>\n",
              "  </tbody>\n",
              "</table>\n",
              "</div>\n",
              "    <div class=\"colab-df-buttons\">\n",
              "\n",
              "  <div class=\"colab-df-container\">\n",
              "    <button class=\"colab-df-convert\" onclick=\"convertToInteractive('df-6ccb15ba-6089-4db8-ac8c-0662dd42a995')\"\n",
              "            title=\"Convert this dataframe to an interactive table.\"\n",
              "            style=\"display:none;\">\n",
              "\n",
              "  <svg xmlns=\"http://www.w3.org/2000/svg\" height=\"24px\" viewBox=\"0 -960 960 960\">\n",
              "    <path d=\"M120-120v-720h720v720H120Zm60-500h600v-160H180v160Zm220 220h160v-160H400v160Zm0 220h160v-160H400v160ZM180-400h160v-160H180v160Zm440 0h160v-160H620v160ZM180-180h160v-160H180v160Zm440 0h160v-160H620v160Z\"/>\n",
              "  </svg>\n",
              "    </button>\n",
              "\n",
              "  <style>\n",
              "    .colab-df-container {\n",
              "      display:flex;\n",
              "      gap: 12px;\n",
              "    }\n",
              "\n",
              "    .colab-df-convert {\n",
              "      background-color: #E8F0FE;\n",
              "      border: none;\n",
              "      border-radius: 50%;\n",
              "      cursor: pointer;\n",
              "      display: none;\n",
              "      fill: #1967D2;\n",
              "      height: 32px;\n",
              "      padding: 0 0 0 0;\n",
              "      width: 32px;\n",
              "    }\n",
              "\n",
              "    .colab-df-convert:hover {\n",
              "      background-color: #E2EBFA;\n",
              "      box-shadow: 0px 1px 2px rgba(60, 64, 67, 0.3), 0px 1px 3px 1px rgba(60, 64, 67, 0.15);\n",
              "      fill: #174EA6;\n",
              "    }\n",
              "\n",
              "    .colab-df-buttons div {\n",
              "      margin-bottom: 4px;\n",
              "    }\n",
              "\n",
              "    [theme=dark] .colab-df-convert {\n",
              "      background-color: #3B4455;\n",
              "      fill: #D2E3FC;\n",
              "    }\n",
              "\n",
              "    [theme=dark] .colab-df-convert:hover {\n",
              "      background-color: #434B5C;\n",
              "      box-shadow: 0px 1px 3px 1px rgba(0, 0, 0, 0.15);\n",
              "      filter: drop-shadow(0px 1px 2px rgba(0, 0, 0, 0.3));\n",
              "      fill: #FFFFFF;\n",
              "    }\n",
              "  </style>\n",
              "\n",
              "    <script>\n",
              "      const buttonEl =\n",
              "        document.querySelector('#df-6ccb15ba-6089-4db8-ac8c-0662dd42a995 button.colab-df-convert');\n",
              "      buttonEl.style.display =\n",
              "        google.colab.kernel.accessAllowed ? 'block' : 'none';\n",
              "\n",
              "      async function convertToInteractive(key) {\n",
              "        const element = document.querySelector('#df-6ccb15ba-6089-4db8-ac8c-0662dd42a995');\n",
              "        const dataTable =\n",
              "          await google.colab.kernel.invokeFunction('convertToInteractive',\n",
              "                                                    [key], {});\n",
              "        if (!dataTable) return;\n",
              "\n",
              "        const docLinkHtml = 'Like what you see? Visit the ' +\n",
              "          '<a target=\"_blank\" href=https://colab.research.google.com/notebooks/data_table.ipynb>data table notebook</a>'\n",
              "          + ' to learn more about interactive tables.';\n",
              "        element.innerHTML = '';\n",
              "        dataTable['output_type'] = 'display_data';\n",
              "        await google.colab.output.renderOutput(dataTable, element);\n",
              "        const docLink = document.createElement('div');\n",
              "        docLink.innerHTML = docLinkHtml;\n",
              "        element.appendChild(docLink);\n",
              "      }\n",
              "    </script>\n",
              "  </div>\n",
              "\n",
              "\n",
              "<div id=\"df-c7d89654-aabc-40f0-b33a-b6408548306f\">\n",
              "  <button class=\"colab-df-quickchart\" onclick=\"quickchart('df-c7d89654-aabc-40f0-b33a-b6408548306f')\"\n",
              "            title=\"Suggest charts\"\n",
              "            style=\"display:none;\">\n",
              "\n",
              "<svg xmlns=\"http://www.w3.org/2000/svg\" height=\"24px\"viewBox=\"0 0 24 24\"\n",
              "     width=\"24px\">\n",
              "    <g>\n",
              "        <path d=\"M19 3H5c-1.1 0-2 .9-2 2v14c0 1.1.9 2 2 2h14c1.1 0 2-.9 2-2V5c0-1.1-.9-2-2-2zM9 17H7v-7h2v7zm4 0h-2V7h2v10zm4 0h-2v-4h2v4z\"/>\n",
              "    </g>\n",
              "</svg>\n",
              "  </button>\n",
              "\n",
              "<style>\n",
              "  .colab-df-quickchart {\n",
              "      --bg-color: #E8F0FE;\n",
              "      --fill-color: #1967D2;\n",
              "      --hover-bg-color: #E2EBFA;\n",
              "      --hover-fill-color: #174EA6;\n",
              "      --disabled-fill-color: #AAA;\n",
              "      --disabled-bg-color: #DDD;\n",
              "  }\n",
              "\n",
              "  [theme=dark] .colab-df-quickchart {\n",
              "      --bg-color: #3B4455;\n",
              "      --fill-color: #D2E3FC;\n",
              "      --hover-bg-color: #434B5C;\n",
              "      --hover-fill-color: #FFFFFF;\n",
              "      --disabled-bg-color: #3B4455;\n",
              "      --disabled-fill-color: #666;\n",
              "  }\n",
              "\n",
              "  .colab-df-quickchart {\n",
              "    background-color: var(--bg-color);\n",
              "    border: none;\n",
              "    border-radius: 50%;\n",
              "    cursor: pointer;\n",
              "    display: none;\n",
              "    fill: var(--fill-color);\n",
              "    height: 32px;\n",
              "    padding: 0;\n",
              "    width: 32px;\n",
              "  }\n",
              "\n",
              "  .colab-df-quickchart:hover {\n",
              "    background-color: var(--hover-bg-color);\n",
              "    box-shadow: 0 1px 2px rgba(60, 64, 67, 0.3), 0 1px 3px 1px rgba(60, 64, 67, 0.15);\n",
              "    fill: var(--button-hover-fill-color);\n",
              "  }\n",
              "\n",
              "  .colab-df-quickchart-complete:disabled,\n",
              "  .colab-df-quickchart-complete:disabled:hover {\n",
              "    background-color: var(--disabled-bg-color);\n",
              "    fill: var(--disabled-fill-color);\n",
              "    box-shadow: none;\n",
              "  }\n",
              "\n",
              "  .colab-df-spinner {\n",
              "    border: 2px solid var(--fill-color);\n",
              "    border-color: transparent;\n",
              "    border-bottom-color: var(--fill-color);\n",
              "    animation:\n",
              "      spin 1s steps(1) infinite;\n",
              "  }\n",
              "\n",
              "  @keyframes spin {\n",
              "    0% {\n",
              "      border-color: transparent;\n",
              "      border-bottom-color: var(--fill-color);\n",
              "      border-left-color: var(--fill-color);\n",
              "    }\n",
              "    20% {\n",
              "      border-color: transparent;\n",
              "      border-left-color: var(--fill-color);\n",
              "      border-top-color: var(--fill-color);\n",
              "    }\n",
              "    30% {\n",
              "      border-color: transparent;\n",
              "      border-left-color: var(--fill-color);\n",
              "      border-top-color: var(--fill-color);\n",
              "      border-right-color: var(--fill-color);\n",
              "    }\n",
              "    40% {\n",
              "      border-color: transparent;\n",
              "      border-right-color: var(--fill-color);\n",
              "      border-top-color: var(--fill-color);\n",
              "    }\n",
              "    60% {\n",
              "      border-color: transparent;\n",
              "      border-right-color: var(--fill-color);\n",
              "    }\n",
              "    80% {\n",
              "      border-color: transparent;\n",
              "      border-right-color: var(--fill-color);\n",
              "      border-bottom-color: var(--fill-color);\n",
              "    }\n",
              "    90% {\n",
              "      border-color: transparent;\n",
              "      border-bottom-color: var(--fill-color);\n",
              "    }\n",
              "  }\n",
              "</style>\n",
              "\n",
              "  <script>\n",
              "    async function quickchart(key) {\n",
              "      const quickchartButtonEl =\n",
              "        document.querySelector('#' + key + ' button');\n",
              "      quickchartButtonEl.disabled = true;  // To prevent multiple clicks.\n",
              "      quickchartButtonEl.classList.add('colab-df-spinner');\n",
              "      try {\n",
              "        const charts = await google.colab.kernel.invokeFunction(\n",
              "            'suggestCharts', [key], {});\n",
              "      } catch (error) {\n",
              "        console.error('Error during call to suggestCharts:', error);\n",
              "      }\n",
              "      quickchartButtonEl.classList.remove('colab-df-spinner');\n",
              "      quickchartButtonEl.classList.add('colab-df-quickchart-complete');\n",
              "    }\n",
              "    (() => {\n",
              "      let quickchartButtonEl =\n",
              "        document.querySelector('#df-c7d89654-aabc-40f0-b33a-b6408548306f button');\n",
              "      quickchartButtonEl.style.display =\n",
              "        google.colab.kernel.accessAllowed ? 'block' : 'none';\n",
              "    })();\n",
              "  </script>\n",
              "</div>\n",
              "\n",
              "    </div>\n",
              "  </div>\n"
            ],
            "application/vnd.google.colaboratory.intrinsic+json": {
              "type": "dataframe",
              "summary": "{\n  \"name\": \"df\",\n  \"rows\": 8,\n  \"fields\": [\n    {\n      \"column\": \"conversation_id\",\n      \"properties\": {\n        \"dtype\": \"number\",\n        \"std\": 7.932142572528346e+17,\n        \"min\": 9377.0,\n        \"max\": 1.7568873446183e+18,\n        \"num_unique_values\": 8,\n        \"samples\": [\n          1.756687692310569e+18,\n          1.7568635225610035e+18,\n          9377.0\n        ],\n        \"semantic_type\": \"\",\n        \"description\": \"\"\n      }\n    },\n    {\n      \"column\": \"author_id\",\n      \"properties\": {\n        \"dtype\": \"number\",\n        \"std\": 6.958723602847468e+17,\n        \"min\": 9377.0,\n        \"max\": 1.7568832556079268e+18,\n        \"num_unique_values\": 8,\n        \"samples\": [\n          6.45288594089388e+17,\n          3230979385.0,\n          9377.0\n        ],\n        \"semantic_type\": \"\",\n        \"description\": \"\"\n      }\n    },\n    {\n      \"column\": \"id\",\n      \"properties\": {\n        \"dtype\": \"number\",\n        \"std\": 8.132643645926803e+17,\n        \"min\": 9377.0,\n        \"max\": 1.7568873446183e+18,\n        \"num_unique_values\": 8,\n        \"samples\": [\n          1.7568626458399793e+18,\n          1.7568662676658135e+18,\n          9377.0\n        ],\n        \"semantic_type\": \"\",\n        \"description\": \"\"\n      }\n    },\n    {\n      \"column\": \"edit_controls.edits_remaining\",\n      \"properties\": {\n        \"dtype\": \"number\",\n        \"std\": 3313.8531545268247,\n        \"min\": 0.06837129619974558,\n        \"max\": 9377.0,\n        \"num_unique_values\": 5,\n        \"samples\": [\n          4.995734243361416,\n          5.0,\n          0.06837129619974558\n        ],\n        \"semantic_type\": \"\",\n        \"description\": \"\"\n      }\n    },\n    {\n      \"column\": \"public_metrics.retweet_count\",\n      \"properties\": {\n        \"dtype\": \"number\",\n        \"std\": 3443.9646364814566,\n        \"min\": 0.0,\n        \"max\": 9377.0,\n        \"num_unique_values\": 7,\n        \"samples\": [\n          9377.0,\n          160.41463154527034,\n          42.0\n        ],\n        \"semantic_type\": \"\",\n        \"description\": \"\"\n      }\n    },\n    {\n      \"column\": \"public_metrics.reply_count\",\n      \"properties\": {\n        \"dtype\": \"number\",\n        \"std\": 3311.341820889754,\n        \"min\": 0.0,\n        \"max\": 9377.0,\n        \"num_unique_values\": 5,\n        \"samples\": [\n          0.265969926415698,\n          78.0,\n          1.7202081079554552\n        ],\n        \"semantic_type\": \"\",\n        \"description\": \"\"\n      }\n    },\n    {\n      \"column\": \"public_metrics.like_count\",\n      \"properties\": {\n        \"dtype\": \"number\",\n        \"std\": 3288.332586046806,\n        \"min\": 0.0,\n        \"max\": 9377.0,\n        \"num_unique_values\": 5,\n        \"samples\": [\n          3.1088834381998507,\n          2043.0,\n          35.093718732810444\n        ],\n        \"semantic_type\": \"\",\n        \"description\": \"\"\n      }\n    },\n    {\n      \"column\": \"public_metrics.quote_count\",\n      \"properties\": {\n        \"dtype\": \"number\",\n        \"std\": 3313.8839779283944,\n        \"min\": 0.0,\n        \"max\": 9377.0,\n        \"num_unique_values\": 5,\n        \"samples\": [\n          0.05737442678895169,\n          27.0,\n          0.651783828068091\n        ],\n        \"semantic_type\": \"\",\n        \"description\": \"\"\n      }\n    },\n    {\n      \"column\": \"public_metrics.bookmark_count\",\n      \"properties\": {\n        \"dtype\": \"number\",\n        \"std\": 3309.030268122628,\n        \"min\": 0.0,\n        \"max\": 9377.0,\n        \"num_unique_values\": 5,\n        \"samples\": [\n          0.14290284739255626,\n          127.0,\n          2.273448871700656\n        ],\n        \"semantic_type\": \"\",\n        \"description\": \"\"\n      }\n    },\n    {\n      \"column\": \"public_metrics.impression_count\",\n      \"properties\": {\n        \"dtype\": \"number\",\n        \"std\": 86322.73649031976,\n        \"min\": 0.0,\n        \"max\": 246031.0,\n        \"num_unique_values\": 7,\n        \"samples\": [\n          9377.0,\n          493.4303082009171,\n          252.0\n        ],\n        \"semantic_type\": \"\",\n        \"description\": \"\"\n      }\n    },\n    {\n      \"column\": \"in_reply_to_user_id\",\n      \"properties\": {\n        \"dtype\": \"number\",\n        \"std\": 6.123758713649782e+17,\n        \"min\": 1180.0,\n        \"max\": 1.7568133250174405e+18,\n        \"num_unique_values\": 8,\n        \"samples\": [\n          3.334128665695373e+17,\n          294920612.0,\n          1180.0\n        ],\n        \"semantic_type\": \"\",\n        \"description\": \"\"\n      }\n    }\n  ]\n}"
            }
          },
          "metadata": {},
          "execution_count": 3
        }
      ],
      "source": [
        "\n",
        "df = pd.read_csv('x_superbowl.csv')\n",
        "df.describe()"
      ]
    },
    {
      "cell_type": "markdown",
      "metadata": {
        "id": "iC0gbrb0Ql0w"
      },
      "source": [
        "## Prepare Data\n",
        "\n",
        "➡️ Assignment Tasks\n",
        "- Convert any numbers, such as quote_count, from strings into numbers\n",
        "- Reduce the variables in your dataframe to only those that have useful data\n",
        "- Optional: Locate outliers in any of the variables.   Filter them out if they are mistakes; keep them if they are exceptional cases."
      ]
    },
    {
      "cell_type": "code",
      "execution_count": 4,
      "metadata": {
        "vscode": {
          "languageId": "plaintext"
        },
        "id": "F3XzQS2bQl0w"
      },
      "outputs": [],
      "source": [
        "# Convert reply_count from strings to numbers.\n",
        "\n",
        "df['public_metrics.reply_count'] = df['public_metrics.reply_count'].astype(\"string\")\n",
        "df['public_metrics.reply_count'] = pd.to_numeric(df['public_metrics.reply_count'], downcast='float')"
      ]
    },
    {
      "cell_type": "code",
      "source": [
        "# Reduce the variables in your dataframe to only those that have useful data\n",
        "df = df.drop(columns=['conversation_id', 'edit_history_tweet_ids',\n",
        "       'possibly_sensitive', 'reply_settings', 'entities.urls', 'entities.annotations',\n",
        "       'edit_controls.edits_remaining', 'edit_controls.is_edit_eligible',\n",
        "       'edit_controls.editable_until', 'geo.place_id',\n",
        "       'attachments.media_keys', 'entities.mentions', 'attachments.poll_ids',\n",
        "       'attachments.media_source_tweet_id', 'entities.cashtags',\n",
        "       'withheld.country_codes'])"
      ],
      "metadata": {
        "id": "-yJhF5dLR7gc"
      },
      "execution_count": 5,
      "outputs": []
    },
    {
      "cell_type": "markdown",
      "metadata": {
        "id": "wVb0M9pqQl0w"
      },
      "source": [
        "## Summarize Data\n",
        "\n",
        "➡️ Assignment Tasks\n",
        "- Create at least two charts to summarize and visualize the data\n",
        "- Examples include: Number of posts per device; top 10 keywords with highest engagement"
      ]
    },
    {
      "cell_type": "code",
      "execution_count": 31,
      "metadata": {
        "vscode": {
          "languageId": "plaintext"
        },
        "id": "Jx8cMORdQl0w",
        "outputId": "5db20a5a-d408-45ea-ece0-a92f7cb613a7",
        "colab": {
          "base_uri": "https://localhost:8080/"
        }
      },
      "outputs": [
        {
          "output_type": "execute_result",
          "data": {
            "text/plain": [
              "Index(['created_at', 'text', 'lang', 'author_id', 'id',\n",
              "       'public_metrics.retweet_count', 'public_metrics.reply_count',\n",
              "       'public_metrics.like_count', 'public_metrics.quote_count',\n",
              "       'public_metrics.bookmark_count', 'public_metrics.impression_count',\n",
              "       'entities.hashtags', 'referenced_tweets', 'in_reply_to_user_id',\n",
              "       'username', 'name', 'location', 'keyword'],\n",
              "      dtype='object')"
            ]
          },
          "metadata": {},
          "execution_count": 31
        }
      ],
      "source": [
        "df.columns"
      ]
    },
    {
      "cell_type": "code",
      "execution_count": 27,
      "metadata": {
        "vscode": {
          "languageId": "plaintext"
        },
        "id": "7bkKmkDaQl0y",
        "outputId": "d69447e8-99fe-416f-da2f-0b5dceafac0d",
        "colab": {
          "base_uri": "https://localhost:8080/",
          "height": 634
        }
      },
      "outputs": [
        {
          "output_type": "execute_result",
          "data": {
            "text/plain": [
              "<BarContainer object of 10 artists>"
            ]
          },
          "metadata": {},
          "execution_count": 27
        },
        {
          "output_type": "display_data",
          "data": {
            "text/plain": [
              "<Figure size 640x480 with 1 Axes>"
            ],
            "image/png": "[encoded data removed]"
          },
          "metadata": {}
        }
      ],
      "source": [
        "#chart 2: top 10 keywords with highest engagement\n",
        "keys = df['keyword'].value_counts().keys()\n",
        "values = df['keyword'].value_counts().values\n",
        "mpl.xticks(rotation='vertical')\n",
        "mpl.bar(keys, values, color ='red',\n",
        "        width = 1.0)"
      ]
    },
    {
      "cell_type": "code",
      "source": [
        "keys"
      ],
      "metadata": {
        "id": "eRrLA5ksZXXU",
        "outputId": "c60b573f-cfd0-4a8f-e287-a9c28ac9265b",
        "colab": {
          "base_uri": "https://localhost:8080/"
        }
      },
      "execution_count": 22,
      "outputs": [
        {
          "output_type": "execute_result",
          "data": {
            "text/plain": [
              "Index(['Bud Light', 'BMW', 'Budweiser', 'BetMgM', 'Apartments.com',\n",
              "       'best foods', 'Bass Pro Shops and Cabela's',\n",
              "       'America First Credit Union', 'AllState', 'Booking.com'],\n",
              "      dtype='object', name='keyword')"
            ]
          },
          "metadata": {},
          "execution_count": 22
        }
      ]
    }
  ],
  "metadata": {
    "language_info": {
      "name": "python"
    },
    "colab": {
      "provenance": []
    },
    "kernelspec": {
      "name": "python3",
      "display_name": "Python 3"
    }
  },
  "nbformat": 4,
  "nbformat_minor": 0
}